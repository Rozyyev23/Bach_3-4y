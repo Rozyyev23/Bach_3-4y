{
  "nbformat": 4,
  "nbformat_minor": 0,
  "metadata": {
    "colab": {
      "provenance": []
    },
    "kernelspec": {
      "name": "python3",
      "display_name": "Python 3"
    },
    "language_info": {
      "name": "python"
    }
  },
  "cells": [
    {
      "cell_type": "markdown",
      "source": [
        "### **Задание на семинар:**\n",
        "- построить собственный граф типа «сеть»\n",
        "- найти максимальный поток\n",
        "- найти все минимальные разрезы\n",
        "- модернизировать граф, увеличив минимальный разрез\n",
        "- убедиться, что поток по графу увеличился"
      ],
      "metadata": {
        "id": "1PZ_6OIfMMKm"
      }
    },
    {
      "cell_type": "markdown",
      "source": [
        "Ссылка на видео-лекцию: https://www.youtube.com/watch?v=NJQo9Pv6sm0\n",
        "\n",
        "Слайды лекции с математической постановкой задачи приложены."
      ],
      "metadata": {
        "id": "G3VQe4QxMOGt"
      }
    },
    {
      "cell_type": "code",
      "source": [
        "!pip install pulp"
      ],
      "metadata": {
        "colab": {
          "base_uri": "https://localhost:8080/"
        },
        "id": "a1qWpMeDR-uF",
        "outputId": "5def9ec8-d5ea-45c2-9049-b37349216ea0"
      },
      "execution_count": null,
      "outputs": [
        {
          "output_type": "stream",
          "name": "stdout",
          "text": [
            "Collecting pulp\n",
            "  Downloading PuLP-2.7.0-py3-none-any.whl (14.3 MB)\n",
            "\u001b[2K     \u001b[90m━━━━━━━━━━━━━━━━━━━━━━━━━━━━━━━━━━━━━━━━\u001b[0m \u001b[32m14.3/14.3 MB\u001b[0m \u001b[31m74.2 MB/s\u001b[0m eta \u001b[36m0:00:00\u001b[0m\n",
            "\u001b[?25hInstalling collected packages: pulp\n",
            "Successfully installed pulp-2.7.0\n"
          ]
        }
      ]
    },
    {
      "cell_type": "code",
      "execution_count": null,
      "metadata": {
        "id": "I383QfEpL4MK"
      },
      "outputs": [],
      "source": [
        "import networkx as nx\n",
        "import pulp\n",
        "import numpy as np\n",
        "import random as rd\n",
        "import matplotlib.pyplot as plt\n",
        "import copy\n",
        "from collections import defaultdict"
      ]
    },
    {
      "cell_type": "code",
      "source": [
        "# G = nx.DiGraph()             #ориентированный граф\n",
        "# G.add_edge(\"Исток\", \"A\", capacity=10)\n",
        "# G.add_edge(\"Исток\", \"B\", capacity=5)\n",
        "# G.add_edge(\"A\", \"C\", capacity=15)\n",
        "# G.add_edge(\"B\", \"C\", capacity=10)\n",
        "# G.add_edge(\"C\", \"Сток\", capacity=20)\n",
        "# nx.draw(G, with_labels=True, font_weight='bold')"
      ],
      "metadata": {
        "colab": {
          "base_uri": "https://localhost:8080/",
          "height": 516
        },
        "id": "3cgzLMbPR4XO",
        "outputId": "fe52c255-b421-4487-8013-88ed79e6aeed"
      },
      "execution_count": null,
      "outputs": [
        {
          "output_type": "display_data",
          "data": {
            "text/plain": [
              "<Figure size 640x480 with 1 Axes>"
            ],
            "image/png": "[encoded data removed]"
          },
          "metadata": {}
        }
      ]
    },
    {
      "cell_type": "code",
      "source": [
        "G = {\n",
        "    'Исток': {'A': 10, 'B': 5},\n",
        "    'A': {'C': 15},\n",
        "    'B': {'C': 10},\n",
        "    'C': {'Сток': 20}\n",
        "}"
      ],
      "metadata": {
        "id": "k-loFSKyebsw"
      },
      "execution_count": null,
      "outputs": []
    },
    {
      "cell_type": "code",
      "source": [
        "source = 'Исток'\n",
        "sink = 'Сток'"
      ],
      "metadata": {
        "id": "tiweTscTeJEp"
      },
      "execution_count": null,
      "outputs": []
    },
    {
      "cell_type": "markdown",
      "source": [
        "Реализация алгоритма Форда-Фалкерсона"
      ],
      "metadata": {
        "id": "XPo_0cqxbSb4"
      }
    },
    {
      "cell_type": "code",
      "source": [
        "class FordFulkerson:\n",
        "    def __init__(self, graph, source, sink):\n",
        "        self.graph = graph\n",
        "        self.source = source\n",
        "        self.sink = sink\n",
        "        self.visited = set()\n",
        "        self.max_flow = 0\n",
        "\n",
        "    def find_max_flow(self):\n",
        "        path = self.dfs()\n",
        "        while path:\n",
        "            flow = min(self.graph[u][v] for u, v in path)\n",
        "            self.max_flow += flow\n",
        "            for u, v in path:\n",
        "                self.graph[u][v] -= flow\n",
        "                if v not in self.graph:\n",
        "                    self.graph[v] = {}\n",
        "                if u not in self.graph[v]:\n",
        "                    self.graph[v][u] = 0\n",
        "                self.graph[v][u] += flow\n",
        "            self.visited.clear()\n",
        "            path = self.dfs()\n",
        "\n",
        "    def dfs(self):\n",
        "        stack = [(self.source, [self.source])]\n",
        "        while stack:\n",
        "            node, path = stack.pop()\n",
        "            for neighbor, capacity in self.graph[node].items():\n",
        "                if neighbor not in path and capacity > 0:\n",
        "                    if neighbor == self.sink:\n",
        "                        path.append(neighbor)\n",
        "                        return [(path[i], path[i+1]) for i in range(len(path) - 1)]\n",
        "                    stack.append((neighbor, path + [neighbor]))\n",
        "        return []\n",
        "\n",
        "def find_min_cuts(graph, source, sink):\n",
        "    ford_fulkerson = FordFulkerson(graph, source, sink)\n",
        "    ford_fulkerson.find_max_flow()\n",
        "\n",
        "    min_cuts = set()\n",
        "    for u, edges in ford_fulkerson.graph.items():\n",
        "        for v, capacity in edges.items():\n",
        "            if capacity == 0 and ford_fulkerson.graph[v][u] > 0:\n",
        "                min_cuts.add((u, v))\n",
        "\n",
        "    return min_cuts"
      ],
      "metadata": {
        "id": "JnVtJi6EcoQo"
      },
      "execution_count": null,
      "outputs": []
    },
    {
      "cell_type": "code",
      "source": [
        "min_cuts = find_min_cuts(G, source, sink)\n",
        "print(\"Минимальные разрезы:\", min_cuts)"
      ],
      "metadata": {
        "colab": {
          "base_uri": "https://localhost:8080/"
        },
        "id": "mqpefWDOeFTY",
        "outputId": "04059a44-0a71-48d4-dc7f-04888322f027"
      },
      "execution_count": null,
      "outputs": [
        {
          "output_type": "stream",
          "name": "stdout",
          "text": [
            "Минимальные разрезы: {('Исток', 'B'), ('Исток', 'A')}\n"
          ]
        }
      ]
    },
    {
      "cell_type": "code",
      "source": [
        "ford_fulkerson = FordFulkerson(G, source, sink)\n",
        "ford_fulkerson.find_max_flow()\n",
        "max_flow_before = ford_fulkerson.max_flow\n",
        "print(\"Максимальный поток:\", max_flow_before)"
      ],
      "metadata": {
        "colab": {
          "base_uri": "https://localhost:8080/"
        },
        "id": "6Hw1QPcgeNEw",
        "outputId": "28cc7d28-c9b5-4619-b7fe-a46623cbc2df"
      },
      "execution_count": null,
      "outputs": [
        {
          "output_type": "stream",
          "name": "stdout",
          "text": [
            "Максимальный поток: 0\n"
          ]
        }
      ]
    },
    {
      "cell_type": "code",
      "source": [
        "#модернизация графа:увеличим пропускную способность ребра между \"B\" и \"C\"\n",
        "G['B']['C'] += 5"
      ],
      "metadata": {
        "id": "cC0LWmmLeqWG"
      },
      "execution_count": null,
      "outputs": []
    },
    {
      "cell_type": "code",
      "source": [
        "ford_fulkerson = FordFulkerson(G, source, sink)\n",
        "ford_fulkerson.find_max_flow()\n",
        "max_flow_after = ford_fulkerson.max_flow\n",
        "print(\"Максимальный поток после модернизации:\", max_flow_after )"
      ],
      "metadata": {
        "colab": {
          "base_uri": "https://localhost:8080/"
        },
        "id": "rSajA3peeukB",
        "outputId": "39e7f29a-2ae7-43b3-bfaf-0a070b4c9276"
      },
      "execution_count": null,
      "outputs": [
        {
          "output_type": "stream",
          "name": "stdout",
          "text": [
            "Максимальный поток после модернизации: 0\n"
          ]
        }
      ]
    },
    {
      "cell_type": "code",
      "source": [
        "#убедиться, что поток увеличился\n",
        "if max_flow_after > max_flow_before:\n",
        "    print(\"Поток увеличился.\")\n",
        "else:\n",
        "    print(\"Поток не изменился\")"
      ],
      "metadata": {
        "colab": {
          "base_uri": "https://localhost:8080/"
        },
        "id": "IiiJGjsNe0K5",
        "outputId": "4059291e-a4d8-48e1-a7ca-aa0f6d4def7c"
      },
      "execution_count": null,
      "outputs": [
        {
          "output_type": "stream",
          "name": "stdout",
          "text": [
            "Поток не изменился\n"
          ]
        }
      ]
    },
    {
      "cell_type": "code",
      "source": [],
      "metadata": {
        "id": "zm96c3jBff8O"
      },
      "execution_count": null,
      "outputs": []
    }
  ]
}