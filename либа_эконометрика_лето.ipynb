{
  "cells": [
    {
      "cell_type": "code",
      "execution_count": null,
      "metadata": {
        "colab": {
          "background_save": true,
          "base_uri": "https://localhost:8080/"
        },
        "id": "ijrxAMeSYKfZ",
        "outputId": "c8381c35-6da7-498d-e6af-a80712b59f91"
      },
      "outputs": [
        {
          "name": "stdout",
          "output_type": "stream",
          "text": [
            "Looking in indexes: https://pypi.org/simple, https://us-python.pkg.dev/colab-wheels/public/simple/\n",
            "Requirement already satisfied: econbeautylib==0.0.11 in /usr/local/lib/python3.10/dist-packages (0.0.11)\n"
          ]
        }
      ],
      "source": [
        "pip install econbeautylib==0.0.12"
      ]
    },
    {
      "cell_type": "code",
      "execution_count": null,
      "metadata": {
        "colab": {
          "background_save": true,
          "base_uri": "https://localhost:8080/"
        },
        "id": "5XOPg285Cj5G",
        "outputId": "81d718d7-f523-43ec-ee9e-392551c8e964"
      },
      "outputs": [
        {
          "name": "stdout",
          "output_type": "stream",
          "text": [
            "Looking in indexes: https://pypi.org/simple, https://us-python.pkg.dev/colab-wheels/public/simple/\n",
            "Requirement already satisfied: fitz in /usr/local/lib/python3.10/dist-packages (0.0.1.dev2)\n",
            "Requirement already satisfied: configobj in /usr/local/lib/python3.10/dist-packages (from fitz) (5.0.8)\n",
            "Requirement already satisfied: configparser in /usr/local/lib/python3.10/dist-packages (from fitz) (5.3.0)\n",
            "Requirement already satisfied: httplib2 in /usr/local/lib/python3.10/dist-packages (from fitz) (0.21.0)\n",
            "Requirement already satisfied: nibabel in /usr/local/lib/python3.10/dist-packages (from fitz) (3.0.2)\n",
            "Requirement already satisfied: nipype in /usr/local/lib/python3.10/dist-packages (from fitz) (1.8.6)\n",
            "Requirement already satisfied: numpy in /usr/local/lib/python3.10/dist-packages (from fitz) (1.22.4)\n",
            "Requirement already satisfied: pandas in /usr/local/lib/python3.10/dist-packages (from fitz) (1.5.3)\n",
            "Requirement already satisfied: pyxnat in /usr/local/lib/python3.10/dist-packages (from fitz) (1.5)\n",
            "Requirement already satisfied: scipy in /usr/local/lib/python3.10/dist-packages (from fitz) (1.10.1)\n",
            "Requirement already satisfied: six in /usr/local/lib/python3.10/dist-packages (from configobj->fitz) (1.16.0)\n",
            "Requirement already satisfied: pyparsing!=3.0.0,!=3.0.1,!=3.0.2,!=3.0.3,<4,>=2.4.2 in /usr/local/lib/python3.10/dist-packages (from httplib2->fitz) (3.0.9)\n",
            "Requirement already satisfied: click>=6.6.0 in /usr/local/lib/python3.10/dist-packages (from nipype->fitz) (8.1.3)\n",
            "Requirement already satisfied: networkx>=2.0 in /usr/local/lib/python3.10/dist-packages (from nipype->fitz) (3.1)\n",
            "Requirement already satisfied: packaging in /usr/local/lib/python3.10/dist-packages (from nipype->fitz) (23.1)\n",
            "Requirement already satisfied: prov>=1.5.2 in /usr/local/lib/python3.10/dist-packages (from nipype->fitz) (2.0.0)\n",
            "Requirement already satisfied: pydot>=1.2.3 in /usr/local/lib/python3.10/dist-packages (from nipype->fitz) (1.4.2)\n",
            "Requirement already satisfied: python-dateutil>=2.2 in /usr/local/lib/python3.10/dist-packages (from nipype->fitz) (2.8.2)\n",
            "Requirement already satisfied: rdflib>=5.0.0 in /usr/local/lib/python3.10/dist-packages (from nipype->fitz) (6.3.2)\n",
            "Requirement already satisfied: simplejson>=3.8.0 in /usr/local/lib/python3.10/dist-packages (from nipype->fitz) (3.19.1)\n",
            "Requirement already satisfied: traits!=5.0,<6.4,>=4.6 in /usr/local/lib/python3.10/dist-packages (from nipype->fitz) (6.3.2)\n",
            "Requirement already satisfied: filelock>=3.0.0 in /usr/local/lib/python3.10/dist-packages (from nipype->fitz) (3.12.0)\n",
            "Requirement already satisfied: etelemetry>=0.2.0 in /usr/local/lib/python3.10/dist-packages (from nipype->fitz) (0.3.0)\n",
            "Requirement already satisfied: looseversion in /usr/local/lib/python3.10/dist-packages (from nipype->fitz) (1.2.0)\n",
            "Requirement already satisfied: pytz>=2020.1 in /usr/local/lib/python3.10/dist-packages (from pandas->fitz) (2022.7.1)\n",
            "Requirement already satisfied: lxml>=4.3 in /usr/local/lib/python3.10/dist-packages (from pyxnat->fitz) (4.9.2)\n",
            "Requirement already satisfied: requests>=2.20 in /usr/local/lib/python3.10/dist-packages (from pyxnat->fitz) (2.27.1)\n",
            "Requirement already satisfied: pathlib>=1.0 in /usr/local/lib/python3.10/dist-packages (from pyxnat->fitz) (1.0.1)\n",
            "Requirement already satisfied: future>=0.16 in /usr/local/lib/python3.10/dist-packages (from pyxnat->fitz) (0.18.3)\n",
            "Requirement already satisfied: ci-info>=0.2 in /usr/local/lib/python3.10/dist-packages (from etelemetry>=0.2.0->nipype->fitz) (0.3.0)\n",
            "Requirement already satisfied: isodate<0.7.0,>=0.6.0 in /usr/local/lib/python3.10/dist-packages (from rdflib>=5.0.0->nipype->fitz) (0.6.1)\n",
            "Requirement already satisfied: urllib3<1.27,>=1.21.1 in /usr/local/lib/python3.10/dist-packages (from requests>=2.20->pyxnat->fitz) (1.26.15)\n",
            "Requirement already satisfied: certifi>=2017.4.17 in /usr/local/lib/python3.10/dist-packages (from requests>=2.20->pyxnat->fitz) (2022.12.7)\n",
            "Requirement already satisfied: charset-normalizer~=2.0.0 in /usr/local/lib/python3.10/dist-packages (from requests>=2.20->pyxnat->fitz) (2.0.12)\n",
            "Requirement already satisfied: idna<4,>=2.5 in /usr/local/lib/python3.10/dist-packages (from requests>=2.20->pyxnat->fitz) (3.4)\n"
          ]
        }
      ],
      "source": [
        "pip install fitz"
      ]
    },
    {
      "cell_type": "code",
      "execution_count": null,
      "metadata": {
        "colab": {
          "background_save": true,
          "base_uri": "https://localhost:8080/"
        },
        "id": "Yh0nPKGHVoiN",
        "outputId": "cb84e824-96b2-4684-fbbc-92f7144d82e2"
      },
      "outputs": [
        {
          "name": "stdout",
          "output_type": "stream",
          "text": [
            "Looking in indexes: https://pypi.org/simple, https://us-python.pkg.dev/colab-wheels/public/simple/\n",
            "Requirement already satisfied: docx in /usr/local/lib/python3.10/dist-packages (0.2.4)\n",
            "Requirement already satisfied: lxml in /usr/local/lib/python3.10/dist-packages (from docx) (4.9.2)\n",
            "Requirement already satisfied: Pillow>=2.0 in /usr/local/lib/python3.10/dist-packages (from docx) (8.4.0)\n"
          ]
        }
      ],
      "source": [
        "pip install docx\n"
      ]
    },
    {
      "cell_type": "code",
      "execution_count": null,
      "metadata": {
        "colab": {
          "background_save": true
        },
        "id": "j1QJqQM7Xwap",
        "outputId": "bf71b201-53cb-4495-e484-a822ccb6c387"
      },
      "outputs": [
        {
          "name": "stdout",
          "output_type": "stream",
          "text": [
            "Looking in indexes: https://pypi.org/simple, https://us-python.pkg.dev/colab-wheels/public/simple/\n",
            "Requirement already satisfied: python-docx in /usr/local/lib/python3.10/dist-packages (0.8.11)\n",
            "Requirement already satisfied: lxml>=2.3.2 in /usr/local/lib/python3.10/dist-packages (from python-docx) (4.9.2)\n"
          ]
        }
      ],
      "source": [
        "pip install python-docx"
      ]
    },
    {
      "cell_type": "code",
      "execution_count": null,
      "metadata": {
        "colab": {
          "background_save": true
        },
        "id": "mVSFagE7-Rjk",
        "outputId": "f604c903-21f4-4f76-fa42-8d0d5c1cc999"
      },
      "outputs": [
        {
          "name": "stdout",
          "output_type": "stream",
          "text": [
            "Looking in indexes: https://pypi.org/simple, https://us-python.pkg.dev/colab-wheels/public/simple/\n",
            "Requirement already satisfied: PyPDF2 in /usr/local/lib/python3.10/dist-packages (3.0.1)\n"
          ]
        }
      ],
      "source": [
        "pip install PyPDF2"
      ]
    },
    {
      "cell_type": "code",
      "execution_count": null,
      "metadata": {
        "colab": {
          "background_save": true
        },
        "id": "HvpHpIh4XHFZ",
        "outputId": "2fe137e3-4cea-4a57-ff5d-5235741094c7"
      },
      "outputs": [
        {
          "name": "stdout",
          "output_type": "stream",
          "text": [
            "1. econbeautylib.find_by_words(\"любое количество слов\")\n",
            "2. econbeautylib.get_task_by_id(выбранный_id)\n",
            "https://colab.research.google.com/drive/1-pgJ6hiDrEZxT0J3xTqw53SZmpt0tpD5?ouid=0&usp=drive_open#scrollTo=h4-0bfwhGYBX colab для практики, будьте аккуратны\n"
          ]
        }
      ],
      "source": [
        "import econbeautylib as ebl\n",
        "\n",
        "ebl.help()"
      ]
    },
    {
      "cell_type": "code",
      "execution_count": null,
      "metadata": {
        "colab": {
          "background_save": true
        },
        "id": "sGKmAAcnXKRI",
        "outputId": "5764ebac-791c-4b53-9064-54676d7c2b16"
      },
      "outputs": [
        {
          "name": "stdout",
          "output_type": "stream",
          "text": [
            "/usr/local/lib/python3.10/dist-packages/econbeautylib/tasks.docx\n",
            "92 88.Прогнозирование для модели ARMA. Условия прогнозирования. Периоды прогнозирования. Информативность прогнозов.\n",
            "91 56. Трендовые модели. С пределом роста без точки перегиба. Примеры функций. Содержательная интерпретация параметров.\n",
            "90 Нелинейная регрессия. Нелинейные модели и их линеаризация.\n",
            "87 Процедура интервального прогнозирования по оценённой линейной эконометрической модели значений эндогенной переменной и проверка \n",
            "адекватности оценённой модели.\n",
            "86 Отражение в модели влияния неучтённых факторов. Предпосылки теоремы Гаусса-Маркова\n",
            "85 Линейные регрессионные модели с гетероскедастичным остатком. Оценивание параметров модели взвешенным методом наименьших квадрато\n",
            "в.\n",
            "84 Способы корректировки автокорреляции (авторегрессионные модели первого порядка)\n",
            "83 Гетероскедастичность случайного возмущения (определение). Алгоритм теста Голдфелда-Квандта на наличие или отсутствие гетероскеда\n",
            "стичности случайных возмущений в парной регрессионной модели\n",
            "81 Нелинейные модели регрессии и линеаризация (на примере эконометрической модели производства товаров и услуг с функцией Кобба-Дуг\n",
            "ласа).\n",
            "80 Типы нелинейности эконометрических моделей.  Способы включения случайных возмущений в спецификацию нелинейной модели\n",
            "79 Процедура точечного прогнозирования по оценённой линейной эконометрической модели значений эндогенной переменной.\n",
            "78 Алгоритм теста Голдфелда-Квандта на наличие (отсутствие) гетероскедастичности  случайных возмущений в регрессионной модели\n",
            "75 Понятие статистической процедуры оценивания параметров эконометрической модели. Линейные статистические процедуры. Требования к \n",
            "наилучшей статистической процедуре: несмещённость и минимальные дисперсии оценок параметров.\n",
            "73 Последствия, симптомы и методика устранения ошибки спецификации эконометрической модели, состоящей во включении в линейное уравн\n",
            "ение регрессии незначимой объясняющей переменной. \n",
            "72 Применение теста Стьюдента в процедуре подбора переменных в модели множественной регрессии. \n",
            "71 Тест Голдфелда-Квандта гомоскедастичности случайного возмущения в линейной модели множественной регрессии\n",
            "70 Последствия, симптомы и методика устранения ошибки спецификации эконометрической модели, состоящей в неверном выборе типа функци\n",
            "и, играющей роль уравнения регрессии.\n",
            "68 Линейные регрессионные модели с гетероскедастичным остатком. Оценивание параметров модели взвешенным методом наименьших квадрато\n",
            "в.\n",
            "66 F-тест качества спецификации множественной регрессионной модели: выдвигаемая статистическая гипотеза, процедура ее проверки, фор\n",
            "мулы для расчета статистики\n",
            "65 Свойства МНК-оценок параметров классической модели парной линейной регрессии:  ,  .\n",
            "64 Линейная вероятностная модель. Общий вид модели. Недостатки\n",
            "62 Фиктивная переменная наклона: спецификация регрессионной модели с фиктивной переменной наклона; экономический смысл параметра пр\n",
            "и фиктивной переменной; смысл названия\n",
            "61 Фиктивная переменная сдвига: спецификация регрессионной модели с фиктивной переменной сдвига; экономический смысл параметра при \n",
            "фиктивной переменной; смысл названия\n",
            "30 Способы включения случайных возмущений в спецификацию нелинейной модели\n",
            "26 Методы оценки параметров нелинейных моделей: методы, основанные на линейной аппроксимации модели\n",
            "22 Выбор наилучшей формы модели (Спецификация модели регрессии). Признаки. Тест Рамсея.\n",
            "18 Множественная линейная регрессия, спецификация модели и экономическая интерпретация ее параметров\n",
            "14 Методы оценивания параметров регрессионной модели: метод моментов\n",
            "13 Методы оценивания параметров регрессионной модели: метод максимального правдоподобия\n",
            "12 Методы оценивания параметров регрессионной модели: метод наименьших квадратов\n",
            "9 Парная линейная регрессия, спецификация модели и экономическая интерпретация ее параметров\n",
            "4 Виды эконометрических моделей и типы переменных в модели.\n"
          ]
        }
      ],
      "source": [
        "ebl.find_by_words(\"прогнозирование модели периоды\")"
      ]
    },
    {
      "cell_type": "code",
      "execution_count": null,
      "metadata": {
        "colab": {
          "background_save": true
        },
        "id": "sdySXwvMX3nC",
        "outputId": "01c39b57-eaa5-465c-f21e-728f64bfcf89"
      },
      "outputs": [
        {
          "name": "stdout",
          "output_type": "stream",
          "text": [
            "/usr/local/lib/python3.10/dist-packages/econbeautylib/tasks.docx\n"
          ]
        },
        {
          "data": {
            "image/png": "[encoded data removed]",
            "text/plain": [
              "<IPython.core.display.Image object>"
            ]
          },
          "metadata": {},
          "output_type": "display_data"
        }
      ],
      "source": [
        "ebl.get_task_by_id(92)"
      ]
    },
    {
      "cell_type": "code",
      "execution_count": null,
      "metadata": {
        "colab": {
          "background_save": true
        },
        "id": "_XJAexKXKXe5"
      },
      "outputs": [],
      "source": []
    }
  ],
  "metadata": {
    "colab": {
      "provenance": []
    },
    "kernelspec": {
      "display_name": "Python 3",
      "name": "python3"
    },
    "language_info": {
      "name": "python"
    }
  },
  "nbformat": 4,
  "nbformat_minor": 0
}